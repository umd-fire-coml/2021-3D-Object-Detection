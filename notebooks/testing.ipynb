{
 "cells": [
  {
   "cell_type": "code",
   "execution_count": 12,
   "source": [
    "import os\r\n",
    "\r\n",
    "print(os.getcwd())\r\n",
    "\r\n",
    "currentFilePath = os.getcwd()\r\n",
    "currentFilePath = os.path.join(currentFilePath, \"notebooks\\data\\label_2\")\r\n",
    "\r\n",
    "print(currentFilePath)\r\n",
    "\r\n",
    "if os.path.basename(os.getcwd()) == \"notebooks\":\r\n",
    "    %cd ..\r\n",
    "print(os.getcwd())"
   ],
   "outputs": [
    {
     "output_type": "stream",
     "name": "stdout",
     "text": [
      "c:\\Users\\broke\\2021-3D-Object-Detection\n",
      "c:\\Users\\broke\\2021-3D-Object-Detection\\notebooks\\data\\label_2\n",
      "c:\\Users\\broke\\2021-3D-Object-Detection\n"
     ]
    }
   ],
   "metadata": {}
  },
  {
   "cell_type": "code",
   "execution_count": 13,
   "source": [
    "from src.getLabels import getLabelsForOneImage\r\n",
    "print(currentFilePath)\r\n",
    "\r\n",
    "\r\n",
    "labels = getLabelsForOneImage(currentFilePath, \"000043.txt\")"
   ],
   "outputs": [
    {
     "output_type": "stream",
     "name": "stdout",
     "text": [
      "c:\\Users\\broke\\2021-3D-Object-Detection\\notebooks\\data\\label_2\n"
     ]
    }
   ],
   "metadata": {}
  },
  {
   "cell_type": "code",
   "execution_count": 14,
   "source": [
    "for label in labels:\r\n",
    "    currentObj = label\r\n",
    "    for coordinates in currentObj:\r\n",
    "        print(coordinates)\r\n",
    "        "
   ],
   "outputs": [
    {
     "output_type": "stream",
     "name": "stdout",
     "text": [
      "('0.00', '0', '-1.73', '471.56', '174.73', '502.47', '266.40', '1.53', '0.61', '0.73', '-2.20', '1.57', '12.56', '-1.90')\n",
      "('0.00', '0', '-1.59', '441.08', '170.15', '473.22', '268.12', '1.61', '0.54', '0.87', '-2.70', '1.57', '12.34', '-1.80')\n",
      "('0.00', '0', '1.19', '684.72', '161.94', '711.08', '230.10', '1.89', '0.61', '0.92', '2.40', '1.59', '20.51', '1.30')\n",
      "('0.00', '0', '1.09', '719.54', '160.00', '745.42', '229.67', '1.91', '0.69', '0.77', '3.32', '1.56', '20.30', '1.25')\n",
      "('-1', '-1', '-10', '637.75', '173.00', '664.48', '184.89', '-1', '-1', '-1', '-1000', '-1000', '-1000', '-10')\n",
      "('-1', '-1', '-10', '400.19', '163.56', '428.36', '234.44', '-1', '-1', '-1', '-1000', '-1000', '-1000', '-10')\n",
      "('-1', '-1', '-10', '830.40', '178.15', '854.40', '214.65', '-1', '-1', '-1', '-1000', '-1000', '-1000', '-10')\n",
      "('-1', '-1', '-10', '594.98', '172.94', '611.69', '191.73', '-1', '-1', '-1', '-1000', '-1000', '-1000', '-10')\n",
      "('-1', '-1', '-10', '753.31', '168.77', '787.73', '204.23', '-1', '-1', '-1', '-1000', '-1000', '-1000', '-10')\n"
     ]
    }
   ],
   "metadata": {}
  }
 ],
 "metadata": {
  "orig_nbformat": 4,
  "language_info": {
   "name": "python",
   "version": "3.9.0",
   "mimetype": "text/x-python",
   "codemirror_mode": {
    "name": "ipython",
    "version": 3
   },
   "pygments_lexer": "ipython3",
   "nbconvert_exporter": "python",
   "file_extension": ".py"
  },
  "kernelspec": {
   "name": "python3",
   "display_name": "Python 3.9.0 64-bit"
  },
  "interpreter": {
   "hash": "fd13cef78ebeeb4f530e157d00dc075c261aef1bc62b1da3f91ee5478d9059f5"
  }
 },
 "nbformat": 4,
 "nbformat_minor": 2
}